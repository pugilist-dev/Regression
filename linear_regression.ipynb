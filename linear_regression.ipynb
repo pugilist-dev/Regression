{
 "cells": [
  {
   "cell_type": "code",
   "execution_count": 1,
   "metadata": {},
   "outputs": [],
   "source": [
    "from matplotlib import pyplot as plt\n",
    "from sklearn.linear_model import LinearRegression\n",
    "import numpy as np\n",
    "import pandas as pd\n",
    "from sklearn.metrics import mean_absolute_error, mean_squared_error, r2_score"
   ]
  },
  {
   "cell_type": "code",
   "execution_count": 2,
   "metadata": {},
   "outputs": [],
   "source": [
    "# Reading the data \n",
    "data = pd.read_csv(\"./data/winequality-red.csv\")"
   ]
  },
  {
   "cell_type": "code",
   "execution_count": 3,
   "metadata": {},
   "outputs": [
    {
     "data": {
      "text/html": [
       "<div>\n",
       "<style scoped>\n",
       "    .dataframe tbody tr th:only-of-type {\n",
       "        vertical-align: middle;\n",
       "    }\n",
       "\n",
       "    .dataframe tbody tr th {\n",
       "        vertical-align: top;\n",
       "    }\n",
       "\n",
       "    .dataframe thead th {\n",
       "        text-align: right;\n",
       "    }\n",
       "</style>\n",
       "<table border=\"1\" class=\"dataframe\">\n",
       "  <thead>\n",
       "    <tr style=\"text-align: right;\">\n",
       "      <th></th>\n",
       "      <th>fixed acidity</th>\n",
       "      <th>volatile acidity</th>\n",
       "      <th>citric acid</th>\n",
       "      <th>residual sugar</th>\n",
       "      <th>chlorides</th>\n",
       "      <th>free sulfur dioxide</th>\n",
       "      <th>total sulfur dioxide</th>\n",
       "      <th>density</th>\n",
       "      <th>pH</th>\n",
       "      <th>sulphates</th>\n",
       "      <th>alcohol</th>\n",
       "      <th>quality</th>\n",
       "    </tr>\n",
       "  </thead>\n",
       "  <tbody>\n",
       "    <tr>\n",
       "      <th>0</th>\n",
       "      <td>7.4</td>\n",
       "      <td>0.70</td>\n",
       "      <td>0.00</td>\n",
       "      <td>1.9</td>\n",
       "      <td>0.076</td>\n",
       "      <td>11.0</td>\n",
       "      <td>34.0</td>\n",
       "      <td>0.9978</td>\n",
       "      <td>3.51</td>\n",
       "      <td>0.56</td>\n",
       "      <td>9.4</td>\n",
       "      <td>5</td>\n",
       "    </tr>\n",
       "    <tr>\n",
       "      <th>1</th>\n",
       "      <td>7.8</td>\n",
       "      <td>0.88</td>\n",
       "      <td>0.00</td>\n",
       "      <td>2.6</td>\n",
       "      <td>0.098</td>\n",
       "      <td>25.0</td>\n",
       "      <td>67.0</td>\n",
       "      <td>0.9968</td>\n",
       "      <td>3.20</td>\n",
       "      <td>0.68</td>\n",
       "      <td>9.8</td>\n",
       "      <td>5</td>\n",
       "    </tr>\n",
       "    <tr>\n",
       "      <th>2</th>\n",
       "      <td>7.8</td>\n",
       "      <td>0.76</td>\n",
       "      <td>0.04</td>\n",
       "      <td>2.3</td>\n",
       "      <td>0.092</td>\n",
       "      <td>15.0</td>\n",
       "      <td>54.0</td>\n",
       "      <td>0.9970</td>\n",
       "      <td>3.26</td>\n",
       "      <td>0.65</td>\n",
       "      <td>9.8</td>\n",
       "      <td>5</td>\n",
       "    </tr>\n",
       "    <tr>\n",
       "      <th>3</th>\n",
       "      <td>11.2</td>\n",
       "      <td>0.28</td>\n",
       "      <td>0.56</td>\n",
       "      <td>1.9</td>\n",
       "      <td>0.075</td>\n",
       "      <td>17.0</td>\n",
       "      <td>60.0</td>\n",
       "      <td>0.9980</td>\n",
       "      <td>3.16</td>\n",
       "      <td>0.58</td>\n",
       "      <td>9.8</td>\n",
       "      <td>6</td>\n",
       "    </tr>\n",
       "    <tr>\n",
       "      <th>4</th>\n",
       "      <td>7.4</td>\n",
       "      <td>0.70</td>\n",
       "      <td>0.00</td>\n",
       "      <td>1.9</td>\n",
       "      <td>0.076</td>\n",
       "      <td>11.0</td>\n",
       "      <td>34.0</td>\n",
       "      <td>0.9978</td>\n",
       "      <td>3.51</td>\n",
       "      <td>0.56</td>\n",
       "      <td>9.4</td>\n",
       "      <td>5</td>\n",
       "    </tr>\n",
       "  </tbody>\n",
       "</table>\n",
       "</div>"
      ],
      "text/plain": [
       "   fixed acidity  volatile acidity  citric acid  residual sugar  chlorides  \\\n",
       "0            7.4              0.70         0.00             1.9      0.076   \n",
       "1            7.8              0.88         0.00             2.6      0.098   \n",
       "2            7.8              0.76         0.04             2.3      0.092   \n",
       "3           11.2              0.28         0.56             1.9      0.075   \n",
       "4            7.4              0.70         0.00             1.9      0.076   \n",
       "\n",
       "   free sulfur dioxide  total sulfur dioxide  density    pH  sulphates  \\\n",
       "0                 11.0                  34.0   0.9978  3.51       0.56   \n",
       "1                 25.0                  67.0   0.9968  3.20       0.68   \n",
       "2                 15.0                  54.0   0.9970  3.26       0.65   \n",
       "3                 17.0                  60.0   0.9980  3.16       0.58   \n",
       "4                 11.0                  34.0   0.9978  3.51       0.56   \n",
       "\n",
       "   alcohol  quality  \n",
       "0      9.4        5  \n",
       "1      9.8        5  \n",
       "2      9.8        5  \n",
       "3      9.8        6  \n",
       "4      9.4        5  "
      ]
     },
     "execution_count": 3,
     "metadata": {},
     "output_type": "execute_result"
    }
   ],
   "source": [
    "data.head()"
   ]
  },
  {
   "cell_type": "code",
   "execution_count": 4,
   "metadata": {},
   "outputs": [],
   "source": [
    "bias = np.ones(data.shape[0])\n",
    "data['bias'] = bias\n",
    "y = np.array(data['quality'])"
   ]
  },
  {
   "cell_type": "code",
   "execution_count": 5,
   "metadata": {},
   "outputs": [],
   "source": [
    "columns = ['bias']\n",
    "for i in data.columns[:11]:\n",
    "    columns.append(i)"
   ]
  },
  {
   "cell_type": "code",
   "execution_count": 6,
   "metadata": {},
   "outputs": [
    {
     "data": {
      "text/plain": [
       "['bias',\n",
       " 'fixed acidity',\n",
       " 'volatile acidity',\n",
       " 'citric acid',\n",
       " 'residual sugar',\n",
       " 'chlorides',\n",
       " 'free sulfur dioxide',\n",
       " 'total sulfur dioxide',\n",
       " 'density',\n",
       " 'pH',\n",
       " 'sulphates',\n",
       " 'alcohol']"
      ]
     },
     "execution_count": 6,
     "metadata": {},
     "output_type": "execute_result"
    }
   ],
   "source": [
    "columns"
   ]
  },
  {
   "cell_type": "code",
   "execution_count": 7,
   "metadata": {},
   "outputs": [
    {
     "data": {
      "text/html": [
       "<div>\n",
       "<style scoped>\n",
       "    .dataframe tbody tr th:only-of-type {\n",
       "        vertical-align: middle;\n",
       "    }\n",
       "\n",
       "    .dataframe tbody tr th {\n",
       "        vertical-align: top;\n",
       "    }\n",
       "\n",
       "    .dataframe thead th {\n",
       "        text-align: right;\n",
       "    }\n",
       "</style>\n",
       "<table border=\"1\" class=\"dataframe\">\n",
       "  <thead>\n",
       "    <tr style=\"text-align: right;\">\n",
       "      <th></th>\n",
       "      <th>bias</th>\n",
       "      <th>fixed acidity</th>\n",
       "      <th>volatile acidity</th>\n",
       "      <th>citric acid</th>\n",
       "      <th>residual sugar</th>\n",
       "      <th>chlorides</th>\n",
       "      <th>free sulfur dioxide</th>\n",
       "      <th>total sulfur dioxide</th>\n",
       "      <th>density</th>\n",
       "      <th>pH</th>\n",
       "      <th>sulphates</th>\n",
       "      <th>alcohol</th>\n",
       "    </tr>\n",
       "  </thead>\n",
       "  <tbody>\n",
       "    <tr>\n",
       "      <th>0</th>\n",
       "      <td>1.0</td>\n",
       "      <td>7.4</td>\n",
       "      <td>0.700</td>\n",
       "      <td>0.00</td>\n",
       "      <td>1.9</td>\n",
       "      <td>0.076</td>\n",
       "      <td>11.0</td>\n",
       "      <td>34.0</td>\n",
       "      <td>0.99780</td>\n",
       "      <td>3.51</td>\n",
       "      <td>0.56</td>\n",
       "      <td>9.4</td>\n",
       "    </tr>\n",
       "    <tr>\n",
       "      <th>1</th>\n",
       "      <td>1.0</td>\n",
       "      <td>7.8</td>\n",
       "      <td>0.880</td>\n",
       "      <td>0.00</td>\n",
       "      <td>2.6</td>\n",
       "      <td>0.098</td>\n",
       "      <td>25.0</td>\n",
       "      <td>67.0</td>\n",
       "      <td>0.99680</td>\n",
       "      <td>3.20</td>\n",
       "      <td>0.68</td>\n",
       "      <td>9.8</td>\n",
       "    </tr>\n",
       "    <tr>\n",
       "      <th>2</th>\n",
       "      <td>1.0</td>\n",
       "      <td>7.8</td>\n",
       "      <td>0.760</td>\n",
       "      <td>0.04</td>\n",
       "      <td>2.3</td>\n",
       "      <td>0.092</td>\n",
       "      <td>15.0</td>\n",
       "      <td>54.0</td>\n",
       "      <td>0.99700</td>\n",
       "      <td>3.26</td>\n",
       "      <td>0.65</td>\n",
       "      <td>9.8</td>\n",
       "    </tr>\n",
       "    <tr>\n",
       "      <th>3</th>\n",
       "      <td>1.0</td>\n",
       "      <td>11.2</td>\n",
       "      <td>0.280</td>\n",
       "      <td>0.56</td>\n",
       "      <td>1.9</td>\n",
       "      <td>0.075</td>\n",
       "      <td>17.0</td>\n",
       "      <td>60.0</td>\n",
       "      <td>0.99800</td>\n",
       "      <td>3.16</td>\n",
       "      <td>0.58</td>\n",
       "      <td>9.8</td>\n",
       "    </tr>\n",
       "    <tr>\n",
       "      <th>4</th>\n",
       "      <td>1.0</td>\n",
       "      <td>7.4</td>\n",
       "      <td>0.700</td>\n",
       "      <td>0.00</td>\n",
       "      <td>1.9</td>\n",
       "      <td>0.076</td>\n",
       "      <td>11.0</td>\n",
       "      <td>34.0</td>\n",
       "      <td>0.99780</td>\n",
       "      <td>3.51</td>\n",
       "      <td>0.56</td>\n",
       "      <td>9.4</td>\n",
       "    </tr>\n",
       "    <tr>\n",
       "      <th>...</th>\n",
       "      <td>...</td>\n",
       "      <td>...</td>\n",
       "      <td>...</td>\n",
       "      <td>...</td>\n",
       "      <td>...</td>\n",
       "      <td>...</td>\n",
       "      <td>...</td>\n",
       "      <td>...</td>\n",
       "      <td>...</td>\n",
       "      <td>...</td>\n",
       "      <td>...</td>\n",
       "      <td>...</td>\n",
       "    </tr>\n",
       "    <tr>\n",
       "      <th>1594</th>\n",
       "      <td>1.0</td>\n",
       "      <td>6.2</td>\n",
       "      <td>0.600</td>\n",
       "      <td>0.08</td>\n",
       "      <td>2.0</td>\n",
       "      <td>0.090</td>\n",
       "      <td>32.0</td>\n",
       "      <td>44.0</td>\n",
       "      <td>0.99490</td>\n",
       "      <td>3.45</td>\n",
       "      <td>0.58</td>\n",
       "      <td>10.5</td>\n",
       "    </tr>\n",
       "    <tr>\n",
       "      <th>1595</th>\n",
       "      <td>1.0</td>\n",
       "      <td>5.9</td>\n",
       "      <td>0.550</td>\n",
       "      <td>0.10</td>\n",
       "      <td>2.2</td>\n",
       "      <td>0.062</td>\n",
       "      <td>39.0</td>\n",
       "      <td>51.0</td>\n",
       "      <td>0.99512</td>\n",
       "      <td>3.52</td>\n",
       "      <td>0.76</td>\n",
       "      <td>11.2</td>\n",
       "    </tr>\n",
       "    <tr>\n",
       "      <th>1596</th>\n",
       "      <td>1.0</td>\n",
       "      <td>6.3</td>\n",
       "      <td>0.510</td>\n",
       "      <td>0.13</td>\n",
       "      <td>2.3</td>\n",
       "      <td>0.076</td>\n",
       "      <td>29.0</td>\n",
       "      <td>40.0</td>\n",
       "      <td>0.99574</td>\n",
       "      <td>3.42</td>\n",
       "      <td>0.75</td>\n",
       "      <td>11.0</td>\n",
       "    </tr>\n",
       "    <tr>\n",
       "      <th>1597</th>\n",
       "      <td>1.0</td>\n",
       "      <td>5.9</td>\n",
       "      <td>0.645</td>\n",
       "      <td>0.12</td>\n",
       "      <td>2.0</td>\n",
       "      <td>0.075</td>\n",
       "      <td>32.0</td>\n",
       "      <td>44.0</td>\n",
       "      <td>0.99547</td>\n",
       "      <td>3.57</td>\n",
       "      <td>0.71</td>\n",
       "      <td>10.2</td>\n",
       "    </tr>\n",
       "    <tr>\n",
       "      <th>1598</th>\n",
       "      <td>1.0</td>\n",
       "      <td>6.0</td>\n",
       "      <td>0.310</td>\n",
       "      <td>0.47</td>\n",
       "      <td>3.6</td>\n",
       "      <td>0.067</td>\n",
       "      <td>18.0</td>\n",
       "      <td>42.0</td>\n",
       "      <td>0.99549</td>\n",
       "      <td>3.39</td>\n",
       "      <td>0.66</td>\n",
       "      <td>11.0</td>\n",
       "    </tr>\n",
       "  </tbody>\n",
       "</table>\n",
       "<p>1599 rows × 12 columns</p>\n",
       "</div>"
      ],
      "text/plain": [
       "      bias  fixed acidity  volatile acidity  citric acid  residual sugar  \\\n",
       "0      1.0            7.4             0.700         0.00             1.9   \n",
       "1      1.0            7.8             0.880         0.00             2.6   \n",
       "2      1.0            7.8             0.760         0.04             2.3   \n",
       "3      1.0           11.2             0.280         0.56             1.9   \n",
       "4      1.0            7.4             0.700         0.00             1.9   \n",
       "...    ...            ...               ...          ...             ...   \n",
       "1594   1.0            6.2             0.600         0.08             2.0   \n",
       "1595   1.0            5.9             0.550         0.10             2.2   \n",
       "1596   1.0            6.3             0.510         0.13             2.3   \n",
       "1597   1.0            5.9             0.645         0.12             2.0   \n",
       "1598   1.0            6.0             0.310         0.47             3.6   \n",
       "\n",
       "      chlorides  free sulfur dioxide  total sulfur dioxide  density    pH  \\\n",
       "0         0.076                 11.0                  34.0  0.99780  3.51   \n",
       "1         0.098                 25.0                  67.0  0.99680  3.20   \n",
       "2         0.092                 15.0                  54.0  0.99700  3.26   \n",
       "3         0.075                 17.0                  60.0  0.99800  3.16   \n",
       "4         0.076                 11.0                  34.0  0.99780  3.51   \n",
       "...         ...                  ...                   ...      ...   ...   \n",
       "1594      0.090                 32.0                  44.0  0.99490  3.45   \n",
       "1595      0.062                 39.0                  51.0  0.99512  3.52   \n",
       "1596      0.076                 29.0                  40.0  0.99574  3.42   \n",
       "1597      0.075                 32.0                  44.0  0.99547  3.57   \n",
       "1598      0.067                 18.0                  42.0  0.99549  3.39   \n",
       "\n",
       "      sulphates  alcohol  \n",
       "0          0.56      9.4  \n",
       "1          0.68      9.8  \n",
       "2          0.65      9.8  \n",
       "3          0.58      9.8  \n",
       "4          0.56      9.4  \n",
       "...         ...      ...  \n",
       "1594       0.58     10.5  \n",
       "1595       0.76     11.2  \n",
       "1596       0.75     11.0  \n",
       "1597       0.71     10.2  \n",
       "1598       0.66     11.0  \n",
       "\n",
       "[1599 rows x 12 columns]"
      ]
     },
     "execution_count": 7,
     "metadata": {},
     "output_type": "execute_result"
    }
   ],
   "source": [
    "data[columns]"
   ]
  },
  {
   "cell_type": "code",
   "execution_count": 8,
   "metadata": {},
   "outputs": [],
   "source": [
    "M = data[columns].to_numpy()"
   ]
  },
  {
   "cell_type": "code",
   "execution_count": 9,
   "metadata": {},
   "outputs": [
    {
     "name": "stdout",
     "output_type": "stream",
     "text": [
      "Data shape:(1599, 12)\n",
      "Target shape: (1599,)\n",
      "\n"
     ]
    }
   ],
   "source": [
    "print(\"Data shape:{}\\nTarget shape: {}\\n\".format(M.shape, y.shape))"
   ]
  },
  {
   "cell_type": "code",
   "execution_count": 10,
   "metadata": {},
   "outputs": [],
   "source": [
    "# Linear regression using Moore-Penrose Pseudo Inverse\n",
    "w = np.matmul(np.matmul(np.linalg.inv(np.matmul(M.T, M)),M.T), y)\n",
    "pred = np.matmul(M,w)"
   ]
  },
  {
   "cell_type": "code",
   "execution_count": 11,
   "metadata": {},
   "outputs": [
    {
     "data": {
      "text/plain": [
       "0.41676716722140805"
      ]
     },
     "execution_count": 11,
     "metadata": {},
     "output_type": "execute_result"
    }
   ],
   "source": [
    "# Mean square error of the predictions\n",
    "mean_sq_err = np.sum(np.square(y-pred))/data.shape[0]\n",
    "mean_sq_err"
   ]
  },
  {
   "cell_type": "code",
   "execution_count": 12,
   "metadata": {},
   "outputs": [
    {
     "data": {
      "text/plain": [
       "0.5004899636748904"
      ]
     },
     "execution_count": 12,
     "metadata": {},
     "output_type": "execute_result"
    }
   ],
   "source": [
    "# Mean absolute error\n",
    "mean_abs_err = np.sum(np.abs(y-pred)) / data.shape[0]\n",
    "mean_abs_err"
   ]
  },
  {
   "cell_type": "code",
   "execution_count": 13,
   "metadata": {},
   "outputs": [],
   "source": [
    "# Linear regression using the linear regression package ibn scikit learn\n",
    "data = pd.read_csv(\"./data/winequality-red.csv\")\n",
    "x_data = data.drop(['quality'], axis = 1)\n",
    "lr = LinearRegression()\n",
    "x = data[x_data.columns[:11]].to_numpy()\n",
    "y = data['quality'].to_numpy()"
   ]
  },
  {
   "cell_type": "code",
   "execution_count": 14,
   "metadata": {},
   "outputs": [],
   "source": [
    "lr.fit(x, y)\n",
    "w = lr.coef_[0]\n",
    "pred = lr.predict(x)"
   ]
  },
  {
   "cell_type": "code",
   "execution_count": 15,
   "metadata": {},
   "outputs": [
    {
     "data": {
      "text/plain": [
       "0.41676716722140794"
      ]
     },
     "execution_count": 15,
     "metadata": {},
     "output_type": "execute_result"
    }
   ],
   "source": [
    "mean_sq_err = mean_squared_error(y, pred)\n",
    "mean_sq_err"
   ]
  },
  {
   "cell_type": "code",
   "execution_count": 16,
   "metadata": {},
   "outputs": [
    {
     "ename": "NameError",
     "evalue": "name 'accuracy_score' is not defined",
     "output_type": "error",
     "traceback": [
      "\u001b[0;31m---------------------------------------------------------------------------\u001b[0m",
      "\u001b[0;31mNameError\u001b[0m                                 Traceback (most recent call last)",
      "\u001b[0;32m<ipython-input-16-4e802bde1f8f>\u001b[0m in \u001b[0;36m<module>\u001b[0;34m\u001b[0m\n\u001b[1;32m      1\u001b[0m \u001b[0mmean_abs_err\u001b[0m \u001b[0;34m=\u001b[0m \u001b[0mmean_absolute_error\u001b[0m\u001b[0;34m(\u001b[0m\u001b[0my\u001b[0m\u001b[0;34m,\u001b[0m \u001b[0mpred\u001b[0m\u001b[0;34m)\u001b[0m\u001b[0;34m\u001b[0m\u001b[0;34m\u001b[0m\u001b[0m\n\u001b[0;32m----> 2\u001b[0;31m \u001b[0macc\u001b[0m \u001b[0;34m=\u001b[0m \u001b[0maccuracy_score\u001b[0m\u001b[0;34m(\u001b[0m\u001b[0my\u001b[0m\u001b[0;34m,\u001b[0m \u001b[0mpred\u001b[0m\u001b[0;34m)\u001b[0m\u001b[0;34m\u001b[0m\u001b[0;34m\u001b[0m\u001b[0m\n\u001b[0m\u001b[1;32m      3\u001b[0m \u001b[0mmean_abs_err\u001b[0m\u001b[0;34m\u001b[0m\u001b[0;34m\u001b[0m\u001b[0m\n",
      "\u001b[0;31mNameError\u001b[0m: name 'accuracy_score' is not defined"
     ]
    }
   ],
   "source": [
    "mean_abs_err = mean_absolute_error(y, pred)\n",
    "acc = accuracy_score(y, pred)\n",
    "mean_abs_err"
   ]
  },
  {
   "cell_type": "code",
   "execution_count": 17,
   "metadata": {},
   "outputs": [],
   "source": [
    "# We can improve the performance by adding more features, below 5th column is squared and added as another feature\n",
    "x_data['x2'] = x[:,4]**2\n",
    "x_data['x3'] = x[:,5]**2\n",
    "x = x_data.to_numpy()\n",
    "lr.fit(x, y)\n",
    "w = lr.coef_[0]\n",
    "pred = lr.predict(x)"
   ]
  },
  {
   "cell_type": "code",
   "execution_count": 18,
   "metadata": {},
   "outputs": [
    {
     "data": {
      "text/plain": [
       "0.415854040093072"
      ]
     },
     "execution_count": 18,
     "metadata": {},
     "output_type": "execute_result"
    }
   ],
   "source": [
    "mean_sq_err = mean_squared_error(y, pred)\n",
    "mean_sq_err"
   ]
  },
  {
   "cell_type": "code",
   "execution_count": 19,
   "metadata": {},
   "outputs": [
    {
     "data": {
      "text/plain": [
       "0.49983321460444324"
      ]
     },
     "execution_count": 19,
     "metadata": {},
     "output_type": "execute_result"
    }
   ],
   "source": [
    "mean_abs_err = mean_absolute_error(y, pred)\n",
    "mean_abs_err"
   ]
  },
  {
   "cell_type": "raw",
   "metadata": {},
   "source": [
    "The above are the linear algebra methods. These methods are not practical due to number of factors like\n",
    "Curse of Dimensionality, prone to over and underfitting, matrix inverse may not exist, for example, if the dataset is very large, the computer will run out of the memory trying to find the matrix inverse etc. To improve the \n",
    "Linear Regression, iterative methods can be used. The iterative methods attempt to solve the model parameters by minimizing the cost function during each iteration. In iterative methods, the over fitting can be detected and prevented by using regularization. Also, regularizations can also be used when there is a correlation between the features of the dataset."
   ]
  },
  {
   "cell_type": "code",
   "execution_count": 20,
   "metadata": {},
   "outputs": [],
   "source": [
    "# Function to calculate the cost\n",
    "def compute_cost(y, x, theta):\n",
    "    n = y.shape[0]\n",
    "    cost = np.sum(np.square(np.matmul(x, theta) - y))/(2*n)\n",
    "    return cost"
   ]
  },
  {
   "cell_type": "code",
   "execution_count": 21,
   "metadata": {},
   "outputs": [],
   "source": [
    "bias = np.ones(data.shape[0])\n",
    "data['bias'] = bias\n",
    "y = np.array(data['quality'])\n",
    "columns = ['bias']\n",
    "for i in data.columns[:11]:\n",
    "    columns.append(i)\n",
    "M = data[columns].to_numpy()\n",
    "w = np.zeros((12,))\n",
    "cost = compute_cost(y, M, w)"
   ]
  },
  {
   "cell_type": "code",
   "execution_count": 22,
   "metadata": {},
   "outputs": [
    {
     "data": {
      "text/plain": [
       "16.20825515947467"
      ]
     },
     "execution_count": 22,
     "metadata": {},
     "output_type": "execute_result"
    }
   ],
   "source": [
    "cost"
   ]
  },
  {
   "cell_type": "code",
   "execution_count": 23,
   "metadata": {},
   "outputs": [],
   "source": [
    "def gradient_descent(x,y, w, lr, num_iter):\n",
    "    n = y.shape[0]\n",
    "    hist = np.zeros((num_iter,))\n",
    "    for i in range(num_iter):\n",
    "        w[0] = w[0] - (lr/n)*np.sum(np.matmul(x, w) -y)\n",
    "        w[1:] = w[1:] - (lr/n)*np.sum(np.matmul(np.matmul(x[:,1:], w[1:]).T, x[:,1:]))        \n",
    "        hist[i] = compute_cost(y, x, w)\n",
    "    return w, hist"
   ]
  },
  {
   "cell_type": "code",
   "execution_count": 24,
   "metadata": {},
   "outputs": [],
   "source": [
    "iterations = 5000\n",
    "alpha = 0.01\n",
    "theta, hist = gradient_descent(x = M, y = y, w = w, lr = alpha, num_iter = iterations)"
   ]
  },
  {
   "cell_type": "code",
   "execution_count": 25,
   "metadata": {},
   "outputs": [
    {
     "name": "stdout",
     "output_type": "stream",
     "text": [
      "Theta: [5.63602251 0.         0.         0.         0.         0.\n",
      " 0.         0.         0.         0.         0.         0.        ]\n",
      "loss during 1st iteration: 15.892195899172444\n",
      "loss after the last iteration:0.32588026991541386\n"
     ]
    }
   ],
   "source": [
    "print(\"Theta: {}\\nloss during 1st iteration: {}\\nloss after the last iteration:{}\".format(theta, hist[0], hist[-1]))"
   ]
  },
  {
   "cell_type": "code",
   "execution_count": 26,
   "metadata": {},
   "outputs": [
    {
     "data": {
      "text/plain": [
       "Text(0.5, 1.0, 'Loss vs iterations - Gradient Descent, lr = 0.01')"
      ]
     },
     "execution_count": 26,
     "metadata": {},
     "output_type": "execute_result"
    },
    {
     "data": {
      "image/png": "[encoded data removed]",
      "text/plain": [
       "<Figure size 432x288 with 1 Axes>"
      ]
     },
     "metadata": {
      "needs_background": "light"
     },
     "output_type": "display_data"
    }
   ],
   "source": [
    "plt.plot(range(iterations), hist, c='red')\n",
    "plt.xlabel(\"iterations\")\n",
    "plt.ylabel(\"loss\")\n",
    "plt.title(\"Loss vs iterations - Gradient Descent, lr = {}\".format(alpha))"
   ]
  },
  {
   "cell_type": "code",
   "execution_count": 27,
   "metadata": {},
   "outputs": [],
   "source": [
    "bias = np.ones(data.shape[0])\n",
    "data['bias'] = bias\n",
    "y = np.array(data['quality'])\n",
    "columns = ['bias']\n",
    "for i in data.columns[:11]:\n",
    "    columns.append(i)\n",
    "M = data[columns].to_numpy()\n",
    "w = np.zeros((12,))\n",
    "cost = compute_cost(y, M, w)\n",
    "iterations = 5000\n",
    "alpha = 0.02\n",
    "theta, hist = gradient_descent(x = M, y = y, w = w, lr = alpha, num_iter = iterations)"
   ]
  },
  {
   "cell_type": "code",
   "execution_count": 28,
   "metadata": {},
   "outputs": [
    {
     "data": {
      "text/plain": [
       "Text(0.5, 1.0, 'Loss vs iterations - Gradient Descent, lr = 0.02')"
      ]
     },
     "execution_count": 28,
     "metadata": {},
     "output_type": "execute_result"
    },
    {
     "data": {
      "image/png": "[encoded data removed]",
      "text/plain": [
       "<Figure size 432x288 with 1 Axes>"
      ]
     },
     "metadata": {
      "needs_background": "light"
     },
     "output_type": "display_data"
    }
   ],
   "source": [
    "plt.plot(range(iterations), hist, c='red')\n",
    "plt.xlabel(\"iterations\")\n",
    "plt.ylabel(\"loss\")\n",
    "plt.title(\"Loss vs iterations - Gradient Descent, lr = {}\".format(alpha))"
   ]
  },
  {
   "cell_type": "code",
   "execution_count": 29,
   "metadata": {},
   "outputs": [
    {
     "data": {
      "text/plain": [
       "Text(0.5, 1.0, 'Loss vs iterations - Gradient Descent, lr = 0.001')"
      ]
     },
     "execution_count": 29,
     "metadata": {},
     "output_type": "execute_result"
    },
    {
     "data": {
      "image/png": "[encoded data removed]",
      "text/plain": [
       "<Figure size 432x288 with 1 Axes>"
      ]
     },
     "metadata": {
      "needs_background": "light"
     },
     "output_type": "display_data"
    }
   ],
   "source": [
    "bias = np.ones(data.shape[0])\n",
    "data['bias'] = bias\n",
    "y = np.array(data['quality'])\n",
    "columns = ['bias']\n",
    "for i in data.columns[:11]:\n",
    "    columns.append(i)\n",
    "M = data[columns].to_numpy()\n",
    "w = np.zeros((12,))\n",
    "cost = compute_cost(y, M, w)\n",
    "iterations = 5000\n",
    "alpha = 0.001\n",
    "theta, hist = gradient_descent(x = M, y = y, w = w, lr = alpha, num_iter = iterations)\n",
    "plt.plot(range(iterations), hist, c='red')\n",
    "plt.xlabel(\"iterations\")\n",
    "plt.ylabel(\"loss\")\n",
    "plt.title(\"Loss vs iterations - Gradient Descent, lr = {}\".format(alpha))"
   ]
  },
  {
   "cell_type": "code",
   "execution_count": 30,
   "metadata": {},
   "outputs": [
    {
     "data": {
      "text/plain": [
       "Text(0.5, 1.0, 'Loss vs iterations - Gradient Descent, lr = 0.0001')"
      ]
     },
     "execution_count": 30,
     "metadata": {},
     "output_type": "execute_result"
    },
    {
     "data": {
      "image/png": "[encoded data removed]",
      "text/plain": [
       "<Figure size 432x288 with 1 Axes>"
      ]
     },
     "metadata": {
      "needs_background": "light"
     },
     "output_type": "display_data"
    }
   ],
   "source": [
    "bias = np.ones(data.shape[0])\n",
    "data['bias'] = bias\n",
    "y = np.array(data['quality'])\n",
    "columns = ['bias']\n",
    "for i in data.columns[:11]:\n",
    "    columns.append(i)\n",
    "M = data[columns].to_numpy()\n",
    "w = np.zeros((12,))\n",
    "cost = compute_cost(y, M, w)\n",
    "iterations = 5000\n",
    "alpha = 0.0001\n",
    "theta, hist = gradient_descent(x = M, y = y, w = w, lr = alpha, num_iter = iterations)\n",
    "plt.plot(range(iterations), hist, c='red')\n",
    "plt.xlabel(\"iterations\")\n",
    "plt.ylabel(\"loss\")\n",
    "plt.title(\"Loss vs iterations - Gradient Descent, lr = {}\".format(alpha))"
   ]
  },
  {
   "cell_type": "raw",
   "metadata": {},
   "source": [
    "It is evident from the above graphs how the loss reduces under different learning rates. The learning rate is too high, the model descends too fast and over fits on the training data. and if the model learning rate is too low, and the model never converges. Please note that the data has not been divided into test - train data so far. The above concepts programs are to elucidate the concepts of linear regressions and iterative methods of linear regression. The below programs shows how the model performs under test train splits"
   ]
  },
  {
   "cell_type": "code",
   "execution_count": 31,
   "metadata": {},
   "outputs": [],
   "source": [
    "from sklearn.model_selection import train_test_split"
   ]
  },
  {
   "cell_type": "code",
   "execution_count": 32,
   "metadata": {},
   "outputs": [],
   "source": [
    "bias = np.ones(data.shape[0])\n",
    "data['bias'] = bias\n",
    "y = np.array(data['quality'])\n",
    "columns = ['bias']\n",
    "for i in data.columns[:11]:\n",
    "    columns.append(i)\n",
    "M = data[columns].to_numpy()\n",
    "w = np.zeros((12,))"
   ]
  },
  {
   "cell_type": "code",
   "execution_count": 33,
   "metadata": {},
   "outputs": [],
   "source": [
    "X_train, X_test, Y_train, Y_test = train_test_split(M, y, test_size = 0.25, random_state=1284)"
   ]
  },
  {
   "cell_type": "code",
   "execution_count": 34,
   "metadata": {},
   "outputs": [],
   "source": [
    "iterations = 5000\n",
    "alpha = 0.001\n",
    "theta, hist = gradient_descent(x = X_train, y = Y_train, w = w, lr = alpha, num_iter = iterations)"
   ]
  },
  {
   "cell_type": "code",
   "execution_count": 35,
   "metadata": {},
   "outputs": [
    {
     "data": {
      "text/plain": [
       "0.30885214795173394"
      ]
     },
     "execution_count": 35,
     "metadata": {},
     "output_type": "execute_result"
    }
   ],
   "source": [
    "compute_cost(Y_train, X_train, theta)"
   ]
  },
  {
   "cell_type": "code",
   "execution_count": 36,
   "metadata": {},
   "outputs": [
    {
     "data": {
      "text/plain": [
       "0.37949587397637286"
      ]
     },
     "execution_count": 36,
     "metadata": {},
     "output_type": "execute_result"
    }
   ],
   "source": [
    "compute_cost(Y_test, X_test, theta)"
   ]
  },
  {
   "cell_type": "code",
   "execution_count": 37,
   "metadata": {},
   "outputs": [
    {
     "data": {
      "text/plain": [
       "15.939680928936713"
      ]
     },
     "execution_count": 37,
     "metadata": {},
     "output_type": "execute_result"
    }
   ],
   "source": [
    "bias = np.ones(data.shape[0])\n",
    "data['bias'] = bias\n",
    "y = np.array(data['quality'])\n",
    "columns = ['bias']\n",
    "for i in data.columns[:11]:\n",
    "    columns.append(i)\n",
    "M = data[columns].to_numpy()\n",
    "w = np.zeros((12,))\n",
    "X_train, X_test, Y_train, Y_test = train_test_split(M, y, test_size = 0.25, random_state=1285)\n",
    "iterations = 100\n",
    "alpha = 0.00001\n",
    "theta1, hist1 = gradient_descent(x = X_train, y = Y_train, w = w, lr = alpha, num_iter = iterations)\n",
    "compute_cost(Y_test, X_test, theta1)"
   ]
  },
  {
   "cell_type": "code",
   "execution_count": 38,
   "metadata": {},
   "outputs": [
    {
     "data": {
      "text/plain": [
       "0.33240631875603865"
      ]
     },
     "execution_count": 38,
     "metadata": {},
     "output_type": "execute_result"
    }
   ],
   "source": [
    "bias = np.ones(data.shape[0])\n",
    "data['bias'] = bias\n",
    "y = np.array(data['quality'])\n",
    "columns = ['bias']\n",
    "for i in data.columns[:11]:\n",
    "    columns.append(i)\n",
    "M = data[columns].to_numpy()\n",
    "w = np.zeros((12,))\n",
    "X_train, X_test, Y_train, Y_test = train_test_split(M, y, test_size = 0.25, random_state=1286)\n",
    "iterations = 1000000\n",
    "alpha = 1.\n",
    "theta2, hist2 = gradient_descent(x = X_train, y = Y_train, w = w, lr = alpha, num_iter = iterations)\n",
    "compute_cost(Y_test, X_test, theta2)"
   ]
  },
  {
   "cell_type": "raw",
   "metadata": {},
   "source": [
    "To avoid overfitting, regularization can be one of the poweful techniques."
   ]
  },
  {
   "cell_type": "code",
   "execution_count": 39,
   "metadata": {},
   "outputs": [],
   "source": [
    "# Implementation of ridge regression\n",
    "def gradient_descent_reg(x,y, w, lr, num_iter, lam):\n",
    "    n = y.shape[0]\n",
    "    hist = np.zeros((num_iter,))\n",
    "    for i in range(num_iter):\n",
    "        w[0] = w[0] - (lr/n)*np.sum(np.matmul(x, w) -y)\n",
    "        w[1:] = w[1:] - ((lr/n)*np.sum(np.matmul(np.matmul(x[:,1:], w[1:]).T, x[:,1:]))+ (lam/2)*np.sum(np.square(w[1:])))   \n",
    "        hist[i] = compute_cost(y, x, w)\n",
    "    return w, hist"
   ]
  },
  {
   "cell_type": "code",
   "execution_count": 40,
   "metadata": {},
   "outputs": [
    {
     "data": {
      "text/plain": [
       "0.33490631875601296"
      ]
     },
     "execution_count": 40,
     "metadata": {},
     "output_type": "execute_result"
    }
   ],
   "source": [
    "bias = np.ones(data.shape[0])\n",
    "data['bias'] = bias\n",
    "y = np.array(data['quality'])\n",
    "columns = ['bias']\n",
    "for i in data.columns[:11]:\n",
    "    columns.append(i)\n",
    "M = data[columns].to_numpy()\n",
    "w = np.zeros((12,))\n",
    "X_train, X_test, Y_train, Y_test = train_test_split(M, y, test_size = 0.25, random_state=1285)\n",
    "iterations = 50000\n",
    "alpha = 0.001\n",
    "theta_reg, hist_reg = gradient_descent_reg(x = X_train, y = Y_train, w = w, lr = alpha, num_iter = iterations, lam= 0.001)\n",
    "compute_cost(Y_test, X_test, theta_reg)"
   ]
  },
  {
   "cell_type": "code",
   "execution_count": 41,
   "metadata": {},
   "outputs": [],
   "source": [
    "# Lasso regularization\n",
    "def gradient_descent_lasso_reg(x,y, w, lr, num_iter, lam):\n",
    "    n = y.shape[0]\n",
    "    hist = np.zeros((num_iter,))\n",
    "    for i in range(num_iter):\n",
    "        w[0] = w[0] - (lr/n)*np.sum(np.matmul(x, w) -y)\n",
    "        w[1:] = w[1:] - ((lr/n)*np.sum(np.matmul(np.matmul(x[:,1:], w[1:]).T, x[:,1:]))+ (lam/2)*np.sum(np.abs(w[1:])))   \n",
    "        hist[i] = compute_cost(y, x, w)\n",
    "    return w, hist"
   ]
  },
  {
   "cell_type": "code",
   "execution_count": 42,
   "metadata": {},
   "outputs": [
    {
     "data": {
      "text/plain": [
       "0.33490631875601296"
      ]
     },
     "execution_count": 42,
     "metadata": {},
     "output_type": "execute_result"
    }
   ],
   "source": [
    "bias = np.ones(data.shape[0])\n",
    "data['bias'] = bias\n",
    "y = np.array(data['quality'])\n",
    "columns = ['bias']\n",
    "for i in data.columns[:11]:\n",
    "    columns.append(i)\n",
    "M = data[columns].to_numpy()\n",
    "w = np.zeros((12,))\n",
    "X_train, X_test, Y_train, Y_test = train_test_split(M, y, test_size = 0.25, random_state=1285)\n",
    "iterations = 50000\n",
    "alpha = 0.001\n",
    "theta_lasso_reg, hist_lasso_reg = gradient_descent_lasso_reg(x = X_train, y = Y_train, w = w, lr = alpha, num_iter = iterations, lam= 0.001)\n",
    "compute_cost(Y_test, X_test, theta_lasso_reg)"
   ]
  },
  {
   "cell_type": "code",
   "execution_count": 43,
   "metadata": {},
   "outputs": [],
   "source": [
    "lam = np.arange(start=0.001, stop=1, step = 0.002)"
   ]
  },
  {
   "cell_type": "code",
   "execution_count": 44,
   "metadata": {},
   "outputs": [
    {
     "data": {
      "text/plain": [
       "(500,)"
      ]
     },
     "execution_count": 44,
     "metadata": {},
     "output_type": "execute_result"
    }
   ],
   "source": [
    "lam.shape"
   ]
  },
  {
   "cell_type": "code",
   "execution_count": 45,
   "metadata": {},
   "outputs": [],
   "source": [
    "bias = np.ones(data.shape[0])\n",
    "data['bias'] = bias\n",
    "y = np.array(data['quality'])\n",
    "columns = ['bias']\n",
    "for i in data.columns[:11]:\n",
    "    columns.append(i)\n",
    "M = data[columns].to_numpy()\n",
    "w = np.zeros((12,))\n",
    "X_train, X_test, Y_train, Y_test = train_test_split(M, y, test_size = 0.25, random_state=1287)\n",
    "cost = []\n",
    "iterations = 5000\n",
    "alpha = 0.001\n",
    "for l in lam:\n",
    "    theta_reg, hist_reg = gradient_descent_reg(x = X_train, y = Y_train, w = w, lr = alpha, num_iter = iterations, lam= l)\n",
    "    cos = compute_cost(Y_test, X_test, theta_reg)\n",
    "    cost.append(cos)"
   ]
  },
  {
   "cell_type": "code",
   "execution_count": 46,
   "metadata": {},
   "outputs": [
    {
     "data": {
      "text/plain": [
       "Text(0.5, 1.0, 'Loss vs lambda - Gradient Descent, lr = 0.001')"
      ]
     },
     "execution_count": 46,
     "metadata": {},
     "output_type": "execute_result"
    },
    {
     "data": {
      "image/png": "[encoded data removed]",
      "text/plain": [
       "<Figure size 432x288 with 1 Axes>"
      ]
     },
     "metadata": {
      "needs_background": "light"
     },
     "output_type": "display_data"
    }
   ],
   "source": [
    "plt.plot(lam, cost, c='red')\n",
    "plt.xlabel(\"lambda\")\n",
    "plt.ylabel(\"cost\")\n",
    "plt.title(\"Loss vs lambda - Gradient Descent, lr = {}\".format(alpha))"
   ]
  },
  {
   "cell_type": "code",
   "execution_count": 47,
   "metadata": {},
   "outputs": [
    {
     "data": {
      "text/plain": [
       "Text(0.5, 1.0, 'Loss vs lambda - Gradient Descent, lr = 0.001')"
      ]
     },
     "execution_count": 47,
     "metadata": {},
     "output_type": "execute_result"
    },
    {
     "data": {
      "image/png": "[encoded data removed]",
      "text/plain": [
       "<Figure size 432x288 with 1 Axes>"
      ]
     },
     "metadata": {
      "needs_background": "light"
     },
     "output_type": "display_data"
    }
   ],
   "source": [
    "bias = np.ones(data.shape[0])\n",
    "data['bias'] = bias\n",
    "y = np.array(data['quality'])\n",
    "columns = ['bias']\n",
    "for i in data.columns[:11]:\n",
    "    columns.append(i)\n",
    "M = data[columns].to_numpy()\n",
    "w = np.zeros((12,))\n",
    "X_train, X_test, Y_train, Y_test = train_test_split(M, y, test_size = 0.25, random_state=1288)\n",
    "cost = []\n",
    "iterations = 5000\n",
    "alpha = 0.001\n",
    "for l in lam:\n",
    "    theta_reg, hist_reg = gradient_descent_lasso_reg(x = X_train, y = Y_train, w = w, lr = alpha, num_iter = iterations, lam= l)\n",
    "    cos = compute_cost(Y_test, X_test, theta_reg)\n",
    "    cost.append(cos)\n",
    "plt.plot(lam, cost, c='red')\n",
    "plt.xlabel(\"lambda\")\n",
    "plt.ylabel(\"cost\")\n",
    "plt.title(\"Loss vs lambda - Gradient Descent, lr = {}\".format(alpha))"
   ]
  }
 ],
 "metadata": {
  "kernelspec": {
   "display_name": "Python 3",
   "language": "python",
   "name": "python3"
  },
  "language_info": {
   "codemirror_mode": {
    "name": "ipython",
    "version": 3
   },
   "file_extension": ".py",
   "mimetype": "text/x-python",
   "name": "python",
   "nbconvert_exporter": "python",
   "pygments_lexer": "ipython3",
   "version": "3.8.6"
  }
 },
 "nbformat": 4,
 "nbformat_minor": 4
}
